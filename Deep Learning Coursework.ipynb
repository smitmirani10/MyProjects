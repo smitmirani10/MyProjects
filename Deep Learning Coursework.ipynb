{
 "cells": [
  {
   "cell_type": "code",
   "execution_count": 1,
   "id": "clean-dallas",
   "metadata": {
    "execution": {
     "iopub.execute_input": "2021-08-10T17:23:51.815258Z",
     "iopub.status.busy": "2021-08-10T17:23:51.814435Z",
     "iopub.status.idle": "2021-08-10T17:23:54.819625Z",
     "shell.execute_reply": "2021-08-10T17:23:54.818837Z",
     "shell.execute_reply.started": "2021-08-10T17:22:07.105081Z"
    },
    "papermill": {
     "duration": 3.044694,
     "end_time": "2021-08-10T17:23:54.819824",
     "exception": false,
     "start_time": "2021-08-10T17:23:51.775130",
     "status": "completed"
    },
    "tags": []
   },
   "outputs": [],
   "source": [
    "#Loading all necessary libraries\n",
    "%matplotlib inline\n",
    "import os\n",
    "import numpy as np\n",
    "import matplotlib.pyplot as plt\n",
    "import tarfile\n",
    "import pandas as pd\n",
    "\n",
    "import torch\n",
    "import torchvision\n",
    "import torch.optim as optim\n",
    "\n",
    "import torch.nn as nn\n",
    "import torch.nn.functional as F\n",
    "from torchvision.datasets.utils import download_url\n",
    "from torchvision.datasets import ImageFolder\n",
    "import torchvision.transforms as tt\n",
    "from torch.utils.data import random_split\n",
    "from torchvision.utils import make_grid\n",
    "from collections import Counter\n",
    "from torch.utils.data import Dataset, DataLoader\n",
    "\n",
    "from torchvision import transforms, utils\n",
    "from skimage import io, transform\n",
    "from PIL import Image as im\n",
    "import torchvision.transforms as transforms\n",
    "\n",
    "# Ignore warnings\n",
    "import warnings\n",
    "warnings.filterwarnings(\"ignore\")\n",
    "\n",
    "project_name='DL_Coursework'"
   ]
  },
  {
   "cell_type": "code",
   "execution_count": 2,
   "id": "atlantic-pierre",
   "metadata": {
    "execution": {
     "iopub.execute_input": "2021-08-10T17:23:54.867276Z",
     "iopub.status.busy": "2021-08-10T17:23:54.866577Z",
     "iopub.status.idle": "2021-08-10T17:23:54.869997Z",
     "shell.execute_reply": "2021-08-10T17:23:54.869402Z",
     "shell.execute_reply.started": "2021-08-10T17:22:07.120104Z"
    },
    "papermill": {
     "duration": 0.028997,
     "end_time": "2021-08-10T17:23:54.870143",
     "exception": false,
     "start_time": "2021-08-10T17:23:54.841146",
     "status": "completed"
    },
    "tags": []
   },
   "outputs": [],
   "source": [
    "#testing some transform code\n",
    "a = transforms.Compose(\n",
    "    [transforms.ToTensor(),\n",
    "     transforms.Normalize((0.5, 0.5, 0.5), (0.5, 0.5, 0.5))])"
   ]
  },
  {
   "cell_type": "code",
   "execution_count": 3,
   "id": "expensive-samba",
   "metadata": {
    "execution": {
     "iopub.execute_input": "2021-08-10T17:23:54.916904Z",
     "iopub.status.busy": "2021-08-10T17:23:54.916232Z",
     "iopub.status.idle": "2021-08-10T17:23:54.919064Z",
     "shell.execute_reply": "2021-08-10T17:23:54.918558Z",
     "shell.execute_reply.started": "2021-08-10T17:22:07.137990Z"
    },
    "papermill": {
     "duration": 0.028058,
     "end_time": "2021-08-10T17:23:54.919200",
     "exception": false,
     "start_time": "2021-08-10T17:23:54.891142",
     "status": "completed"
    },
    "tags": []
   },
   "outputs": [],
   "source": [
    "root_dir = '/kaggle/input/deep-learning-for-msc-coursework-2021/train/train/'"
   ]
  },
  {
   "cell_type": "code",
   "execution_count": 4,
   "id": "relevant-domestic",
   "metadata": {
    "execution": {
     "iopub.execute_input": "2021-08-10T17:23:54.965204Z",
     "iopub.status.busy": "2021-08-10T17:23:54.964545Z",
     "iopub.status.idle": "2021-08-10T17:23:54.980479Z",
     "shell.execute_reply": "2021-08-10T17:23:54.980996Z",
     "shell.execute_reply.started": "2021-08-10T17:22:07.147717Z"
    },
    "papermill": {
     "duration": 0.041277,
     "end_time": "2021-08-10T17:23:54.981163",
     "exception": false,
     "start_time": "2021-08-10T17:23:54.939886",
     "status": "completed"
    },
    "tags": []
   },
   "outputs": [],
   "source": [
    "#testing if the training csv loads properly in a datadrame\n",
    "training_class_frame = pd.read_csv('/kaggle/input/deep-learning-for-msc-coursework-2021/train.csv',header=None)"
   ]
  },
  {
   "cell_type": "code",
   "execution_count": 5,
   "id": "middle-virtue",
   "metadata": {
    "execution": {
     "iopub.execute_input": "2021-08-10T17:23:55.025797Z",
     "iopub.status.busy": "2021-08-10T17:23:55.025198Z",
     "iopub.status.idle": "2021-08-10T17:23:55.040720Z",
     "shell.execute_reply": "2021-08-10T17:23:55.041313Z",
     "shell.execute_reply.started": "2021-08-10T17:22:07.166835Z"
    },
    "papermill": {
     "duration": 0.039274,
     "end_time": "2021-08-10T17:23:55.041474",
     "exception": false,
     "start_time": "2021-08-10T17:23:55.002200",
     "status": "completed"
    },
    "tags": []
   },
   "outputs": [
    {
     "name": "stdout",
     "output_type": "stream",
     "text": [
      "         0           1\n",
      "0       Id        Type\n",
      "1        1  Connective\n",
      "2        2  Connective\n",
      "3        3  Connective\n",
      "4        4  Connective\n",
      "...    ...         ...\n",
      "2186  2186      Immune\n",
      "2187  2187      Cancer\n",
      "2188  2188  Connective\n",
      "2189  2189  Connective\n",
      "2190  2190      Immune\n",
      "\n",
      "[2191 rows x 2 columns]\n"
     ]
    }
   ],
   "source": [
    "#Printing the dataframe\n",
    "print(training_class_frame)"
   ]
  },
  {
   "cell_type": "code",
   "execution_count": 6,
   "id": "directed-placement",
   "metadata": {
    "execution": {
     "iopub.execute_input": "2021-08-10T17:23:55.087293Z",
     "iopub.status.busy": "2021-08-10T17:23:55.086649Z",
     "iopub.status.idle": "2021-08-10T17:23:55.092676Z",
     "shell.execute_reply": "2021-08-10T17:23:55.093185Z",
     "shell.execute_reply.started": "2021-08-10T17:22:07.175072Z"
    },
    "papermill": {
     "duration": 0.029773,
     "end_time": "2021-08-10T17:23:55.093357",
     "exception": false,
     "start_time": "2021-08-10T17:23:55.063584",
     "status": "completed"
    },
    "tags": []
   },
   "outputs": [
    {
     "name": "stdout",
     "output_type": "stream",
     "text": [
      "Image name: 255\n",
      "Cell type: Cancer\n"
     ]
    }
   ],
   "source": [
    "#Selecting one cell and printing its data from the dataframe\n",
    "n = 255\n",
    "img_name = training_class_frame.iloc[n, 0]\n",
    "cell_type = training_class_frame.iloc[n, 1]\n",
    "\n",
    "print('Image name: {}'.format(img_name))\n",
    "print('Cell type: {}'.format(cell_type))"
   ]
  },
  {
   "cell_type": "code",
   "execution_count": 7,
   "id": "extraordinary-consideration",
   "metadata": {
    "execution": {
     "iopub.execute_input": "2021-08-10T17:23:55.143047Z",
     "iopub.status.busy": "2021-08-10T17:23:55.142406Z",
     "iopub.status.idle": "2021-08-10T17:23:55.321050Z",
     "shell.execute_reply": "2021-08-10T17:23:55.321522Z",
     "shell.execute_reply.started": "2021-08-10T17:22:07.185408Z"
    },
    "papermill": {
     "duration": 0.207174,
     "end_time": "2021-08-10T17:23:55.321693",
     "exception": false,
     "start_time": "2021-08-10T17:23:55.114519",
     "status": "completed"
    },
    "tags": []
   },
   "outputs": [
    {
     "data": {
      "image/png": "[encoded data removed]",
      "text/plain": [
       "<Figure size 432x288 with 1 Axes>"
      ]
     },
     "metadata": {
      "needs_background": "light"
     },
     "output_type": "display_data"
    }
   ],
   "source": [
    "#Selecting the respective cell from the training image folder and displaying the specific image\n",
    "def show_cells(image, cell_type):\n",
    "    plt.imshow(image)\n",
    "\n",
    "plt.figure()\n",
    "image_name = str(img_name)+'.png'\n",
    "show_cells(io.imread(os.path.join('/kaggle/input/deep-learning-for-msc-coursework-2021/train/train/', image_name)),cell_type)\n",
    "plt.show()"
   ]
  },
  {
   "cell_type": "code",
   "execution_count": 8,
   "id": "military-cylinder",
   "metadata": {
    "execution": {
     "iopub.execute_input": "2021-08-10T17:23:55.377655Z",
     "iopub.status.busy": "2021-08-10T17:23:55.376979Z",
     "iopub.status.idle": "2021-08-10T17:23:55.378687Z",
     "shell.execute_reply": "2021-08-10T17:23:55.379299Z",
     "shell.execute_reply.started": "2021-08-10T17:22:07.316633Z"
    },
    "papermill": {
     "duration": 0.035495,
     "end_time": "2021-08-10T17:23:55.379461",
     "exception": false,
     "start_time": "2021-08-10T17:23:55.343966",
     "status": "completed"
    },
    "tags": []
   },
   "outputs": [],
   "source": [
    "#Custom dataset loader class and methods\n",
    "class ColonCancerDataset(Dataset):\n",
    "    \n",
    "    def __init__(self, csv_file, root_dir, transform=None):\n",
    "        self.cancer_frame = pd.read_csv(csv_file)\n",
    "        self.root_dir = root_dir\n",
    "        self.transform = transform\n",
    "\n",
    "    def __len__(self):\n",
    "        return len(self.cancer_frame)\n",
    "\n",
    "    def __getitem__(self, idx):\n",
    "        if torch.is_tensor(idx):\n",
    "            idx = idx.tolist()\n",
    "        img_name = os.path.join(self.root_dir,\n",
    "                                str(self.cancer_frame.iloc[idx,0])+'.png')\n",
    "        #print(idx)\n",
    "        image = io.imread(img_name)\n",
    "        image = image.astype(np.float32)\n",
    "        cell_type = self.cancer_frame.iloc[idx, 1]\n",
    "        if cell_type=='Connective':\n",
    "            cell_type=0\n",
    "        if cell_type=='Cancer':\n",
    "            cell_type=1\n",
    "        if cell_type=='Immune':\n",
    "            cell_type=2\n",
    "        if cell_type=='Normal':\n",
    "            cell_type=3\n",
    "        cell_type = np.array([cell_type])\n",
    "        cell_type = cell_type.astype(np.float32).reshape(-1,1)\n",
    "        idx=np.array([idx])\n",
    "        idx = idx.astype(np.float32).reshape(-1,1)\n",
    "        #here idx is super important as it represents the image name, as image name and number are sequential numbers\"\n",
    "        sample = {'image': image, 'cell_type': cell_type,'idx': idx}\n",
    "\n",
    "        if self.transform:\n",
    "            sample = self.transform(sample)\n",
    "\n",
    "        return sample"
   ]
  },
  {
   "cell_type": "code",
   "execution_count": 9,
   "id": "dedicated-lender",
   "metadata": {
    "execution": {
     "iopub.execute_input": "2021-08-10T17:23:55.427985Z",
     "iopub.status.busy": "2021-08-10T17:23:55.427345Z",
     "iopub.status.idle": "2021-08-10T17:23:55.434768Z",
     "shell.execute_reply": "2021-08-10T17:23:55.435261Z",
     "shell.execute_reply.started": "2021-08-10T17:22:07.326318Z"
    },
    "papermill": {
     "duration": 0.033056,
     "end_time": "2021-08-10T17:23:55.435422",
     "exception": false,
     "start_time": "2021-08-10T17:23:55.402366",
     "status": "completed"
    },
    "tags": []
   },
   "outputs": [],
   "source": [
    "#loading the cancer dataset to test some features\n",
    "cancer_dataset = ColonCancerDataset(csv_file='/kaggle/input/deep-learning-for-msc-coursework-2021/train.csv'\n",
    "                                    ,root_dir= '/kaggle/input/deep-learning-for-msc-coursework-2021/train/train/')"
   ]
  },
  {
   "cell_type": "code",
   "execution_count": 10,
   "id": "statutory-mistake",
   "metadata": {
    "execution": {
     "iopub.execute_input": "2021-08-10T17:23:55.483381Z",
     "iopub.status.busy": "2021-08-10T17:23:55.482779Z",
     "iopub.status.idle": "2021-08-10T17:23:55.486385Z",
     "shell.execute_reply": "2021-08-10T17:23:55.485893Z",
     "shell.execute_reply.started": "2021-08-10T17:22:07.347998Z"
    },
    "papermill": {
     "duration": 0.028409,
     "end_time": "2021-08-10T17:23:55.486508",
     "exception": false,
     "start_time": "2021-08-10T17:23:55.458099",
     "status": "completed"
    },
    "tags": []
   },
   "outputs": [],
   "source": [
    "#for i in range(len(cancer_dataset)):\n",
    "    #sample = cancer_dataset[i]\n",
    "    #print(sample)"
   ]
  },
  {
   "cell_type": "code",
   "execution_count": 11,
   "id": "former-magnitude",
   "metadata": {
    "execution": {
     "iopub.execute_input": "2021-08-10T17:23:55.537048Z",
     "iopub.status.busy": "2021-08-10T17:23:55.536434Z",
     "iopub.status.idle": "2021-08-10T17:23:55.549576Z",
     "shell.execute_reply": "2021-08-10T17:23:55.548907Z",
     "shell.execute_reply.started": "2021-08-10T17:22:07.357045Z"
    },
    "papermill": {
     "duration": 0.040811,
     "end_time": "2021-08-10T17:23:55.549710",
     "exception": false,
     "start_time": "2021-08-10T17:23:55.508899",
     "status": "completed"
    },
    "tags": []
   },
   "outputs": [
    {
     "name": "stdout",
     "output_type": "stream",
     "text": [
      "{'image': array([[[232., 200., 225.],\n",
      "        [246., 227., 243.],\n",
      "        [253., 247., 255.],\n",
      "        ...,\n",
      "        [217., 155., 201.],\n",
      "        [216., 157., 201.],\n",
      "        [215., 157., 199.]],\n",
      "\n",
      "       [[222., 176., 207.],\n",
      "        [241., 212., 235.],\n",
      "        [255., 247., 255.],\n",
      "        ...,\n",
      "        [217., 155., 201.],\n",
      "        [216., 156., 200.],\n",
      "        [218., 159., 202.]],\n",
      "\n",
      "       [[212., 155., 192.],\n",
      "        [234., 196., 226.],\n",
      "        [255., 240., 255.],\n",
      "        ...,\n",
      "        [215., 154., 200.],\n",
      "        [215., 155., 199.],\n",
      "        [218., 159., 202.]],\n",
      "\n",
      "       ...,\n",
      "\n",
      "       [[204., 140., 183.],\n",
      "        [185., 117., 160.],\n",
      "        [168.,  98., 140.],\n",
      "        ...,\n",
      "        [225., 179., 205.],\n",
      "        [216., 173., 200.],\n",
      "        [195., 152., 179.]],\n",
      "\n",
      "       [[211., 149., 194.],\n",
      "        [196., 128., 172.],\n",
      "        [180., 108., 150.],\n",
      "        ...,\n",
      "        [248., 204., 230.],\n",
      "        [240., 197., 224.],\n",
      "        [210., 165., 192.]],\n",
      "\n",
      "       [[219., 161., 206.],\n",
      "        [215., 153., 196.],\n",
      "        [205., 140., 182.],\n",
      "        ...,\n",
      "        [243., 197., 225.],\n",
      "        [231., 187., 215.],\n",
      "        [206., 159., 187.]]], dtype=float32), 'cell_type': array([[2.]], dtype=float32), 'idx': array([[240.]], dtype=float32)}\n"
     ]
    }
   ],
   "source": [
    "#printing a single cell after its transformation fromt the dictionary created post transformation\n",
    "one_cell=cancer_dataset.__getitem__(240)\n",
    "if one_cell['cell_type']==1:\n",
    "    one_cell['cell_type']='Cancer'\n",
    "print(one_cell)"
   ]
  },
  {
   "cell_type": "code",
   "execution_count": 12,
   "id": "drawn-rapid",
   "metadata": {
    "execution": {
     "iopub.execute_input": "2021-08-10T17:23:55.602508Z",
     "iopub.status.busy": "2021-08-10T17:23:55.601628Z",
     "iopub.status.idle": "2021-08-10T17:23:55.605075Z",
     "shell.execute_reply": "2021-08-10T17:23:55.605574Z",
     "shell.execute_reply.started": "2021-08-10T17:22:07.375703Z"
    },
    "papermill": {
     "duration": 0.032363,
     "end_time": "2021-08-10T17:23:55.605737",
     "exception": false,
     "start_time": "2021-08-10T17:23:55.573374",
     "status": "completed"
    },
    "tags": []
   },
   "outputs": [],
   "source": [
    "#converting our arrays to tensors for processing \n",
    "#transposing the image so that the image number of channels are in the first column\n",
    "class ToTensor(object):\n",
    "    def __call__(self, sample):\n",
    "        image, cell_type,idx = sample['image'], sample['cell_type'], sample['idx']\n",
    "        image = image.transpose((2, 1, 0))\n",
    "        return {'image': torch.from_numpy(image),\n",
    "                'cell_type': torch.from_numpy(cell_type),\n",
    "               'idx': idx}"
   ]
  },
  {
   "cell_type": "code",
   "execution_count": 13,
   "id": "least-remove",
   "metadata": {
    "execution": {
     "iopub.execute_input": "2021-08-10T17:23:55.656885Z",
     "iopub.status.busy": "2021-08-10T17:23:55.655922Z",
     "iopub.status.idle": "2021-08-10T17:23:55.662689Z",
     "shell.execute_reply": "2021-08-10T17:23:55.662107Z",
     "shell.execute_reply.started": "2021-08-10T17:22:07.382066Z"
    },
    "papermill": {
     "duration": 0.034379,
     "end_time": "2021-08-10T17:23:55.662868",
     "exception": false,
     "start_time": "2021-08-10T17:23:55.628489",
     "status": "completed"
    },
    "tags": []
   },
   "outputs": [],
   "source": [
    "#loading the training dataset with transformation\n",
    "training_dataset = ColonCancerDataset(csv_file='/kaggle/input/deep-learning-for-msc-coursework-2021/train.csv'\n",
    "                                    ,root_dir= '/kaggle/input/deep-learning-for-msc-coursework-2021/train/train/'\n",
    "                                    ,transform=transforms.Compose([ToTensor()]))"
   ]
  },
  {
   "cell_type": "code",
   "execution_count": 14,
   "id": "retired-length",
   "metadata": {
    "execution": {
     "iopub.execute_input": "2021-08-10T17:23:55.711625Z",
     "iopub.status.busy": "2021-08-10T17:23:55.711030Z",
     "iopub.status.idle": "2021-08-10T17:23:55.720583Z",
     "shell.execute_reply": "2021-08-10T17:23:55.721152Z",
     "shell.execute_reply.started": "2021-08-10T17:22:07.400340Z"
    },
    "papermill": {
     "duration": 0.03556,
     "end_time": "2021-08-10T17:23:55.721333",
     "exception": false,
     "start_time": "2021-08-10T17:23:55.685773",
     "status": "completed"
    },
    "tags": []
   },
   "outputs": [],
   "source": [
    "#loading the test data set with transformation\n",
    "test_dataset = ColonCancerDataset(csv_file='/kaggle/input/deep-learning-for-msc-coursework-2021/example.csv',\n",
    "                                root_dir='/kaggle/input/deep-learning-for-msc-coursework-2021/test/test/'\n",
    "                               ,transform=transforms.Compose([ToTensor()]))"
   ]
  },
  {
   "cell_type": "code",
   "execution_count": 15,
   "id": "inappropriate-coaching",
   "metadata": {
    "execution": {
     "iopub.execute_input": "2021-08-10T17:23:55.769442Z",
     "iopub.status.busy": "2021-08-10T17:23:55.768840Z",
     "iopub.status.idle": "2021-08-10T17:23:55.803826Z",
     "shell.execute_reply": "2021-08-10T17:23:55.804250Z",
     "shell.execute_reply.started": "2021-08-10T17:22:07.414064Z"
    },
    "papermill": {
     "duration": 0.06054,
     "end_time": "2021-08-10T17:23:55.804426",
     "exception": false,
     "start_time": "2021-08-10T17:23:55.743886",
     "status": "completed"
    },
    "tags": []
   },
   "outputs": [
    {
     "data": {
      "text/plain": [
       "(1990, 200)"
      ]
     },
     "execution_count": 15,
     "metadata": {},
     "output_type": "execute_result"
    }
   ],
   "source": [
    "#splitting our training data set into training and validation data\n",
    "random_seed = 42\n",
    "torch.manual_seed(random_seed)\n",
    "\n",
    "val_size = 200\n",
    "train_size = len(training_dataset) - val_size\n",
    "train_ds, val_ds = random_split(training_dataset, [train_size, val_size])\n",
    "\n",
    "len(train_ds), len(val_ds)"
   ]
  },
  {
   "cell_type": "code",
   "execution_count": 16,
   "id": "married-cooking",
   "metadata": {
    "execution": {
     "iopub.execute_input": "2021-08-10T17:23:55.855459Z",
     "iopub.status.busy": "2021-08-10T17:23:55.854871Z",
     "iopub.status.idle": "2021-08-10T17:23:55.858508Z",
     "shell.execute_reply": "2021-08-10T17:23:55.857952Z",
     "shell.execute_reply.started": "2021-08-10T17:22:07.425143Z"
    },
    "papermill": {
     "duration": 0.031392,
     "end_time": "2021-08-10T17:23:55.858659",
     "exception": false,
     "start_time": "2021-08-10T17:23:55.827267",
     "status": "completed"
    },
    "tags": []
   },
   "outputs": [
    {
     "name": "stdout",
     "output_type": "stream",
     "text": [
      "2190\n"
     ]
    }
   ],
   "source": [
    "print(len(training_dataset))"
   ]
  },
  {
   "cell_type": "code",
   "execution_count": 17,
   "id": "developed-honor",
   "metadata": {
    "execution": {
     "iopub.execute_input": "2021-08-10T17:23:55.912235Z",
     "iopub.status.busy": "2021-08-10T17:23:55.911103Z",
     "iopub.status.idle": "2021-08-10T17:23:55.913958Z",
     "shell.execute_reply": "2021-08-10T17:23:55.913321Z",
     "shell.execute_reply.started": "2021-08-10T17:22:07.435682Z"
    },
    "papermill": {
     "duration": 0.031602,
     "end_time": "2021-08-10T17:23:55.914116",
     "exception": false,
     "start_time": "2021-08-10T17:23:55.882514",
     "status": "completed"
    },
    "tags": []
   },
   "outputs": [],
   "source": [
    "#checking the \n",
    "#for i in range(len(training_dataset)):\n",
    " #   sample = transformed_dataset[i]\n",
    "\n",
    "  #  print(i, sample['image'].size(), sample['cell_type'].size(),sample['idx'])\n",
    "\n",
    "   ## if i == 3:\n",
    "     #   break"
   ]
  },
  {
   "cell_type": "code",
   "execution_count": 18,
   "id": "bigger-restaurant",
   "metadata": {
    "execution": {
     "iopub.execute_input": "2021-08-10T17:23:55.967122Z",
     "iopub.status.busy": "2021-08-10T17:23:55.966453Z",
     "iopub.status.idle": "2021-08-10T17:23:55.969719Z",
     "shell.execute_reply": "2021-08-10T17:23:55.969188Z",
     "shell.execute_reply.started": "2021-08-10T17:22:07.445982Z"
    },
    "papermill": {
     "duration": 0.031973,
     "end_time": "2021-08-10T17:23:55.969874",
     "exception": false,
     "start_time": "2021-08-10T17:23:55.937901",
     "status": "completed"
    },
    "tags": []
   },
   "outputs": [],
   "source": [
    "#loading our datasets in dataloader\n",
    "#shuffling the dataset so that in every iteration the network is not fed with just single class\n",
    "#making sure not to shuffle the test dataset\n",
    "trainloader = DataLoader(train_ds, shuffle=True,pin_memory=True)\n",
    "valloader = DataLoader(val_ds, shuffle=True,pin_memory=True)\n",
    "testloader= DataLoader(test_dataset, shuffle=False,pin_memory=True)"
   ]
  },
  {
   "cell_type": "code",
   "execution_count": 19,
   "id": "constant-lying",
   "metadata": {
    "execution": {
     "iopub.execute_input": "2021-08-10T17:23:56.033454Z",
     "iopub.status.busy": "2021-08-10T17:23:56.026849Z",
     "iopub.status.idle": "2021-08-10T17:23:56.052459Z",
     "shell.execute_reply": "2021-08-10T17:23:56.053027Z",
     "shell.execute_reply.started": "2021-08-10T17:22:07.457843Z"
    },
    "papermill": {
     "duration": 0.05967,
     "end_time": "2021-08-10T17:23:56.053198",
     "exception": false,
     "start_time": "2021-08-10T17:23:55.993528",
     "status": "completed"
    },
    "tags": []
   },
   "outputs": [],
   "source": [
    "#creating our network\n",
    "#2 convolutional layers\n",
    "#2 maxpool layers\n",
    "#3 dense linear layers\n",
    "#every layer except last one going through a non-linear transformation that is ReLU\n",
    "#final output is of 4 (i.e. probability of selection of each class)\n",
    "class Net(nn.Module):\n",
    "    def __init__(self):\n",
    "        super().__init__()\n",
    "        self.conv1 = nn.Conv2d(3, 6, kernel_size=5,padding=0,stride=1)\n",
    "        self.pool = nn.MaxPool2d(2, 2)\n",
    "        self.conv2 = nn.Conv2d(6, 16, kernel_size=5,padding=0,stride=1)\n",
    "        self.fc1 = nn.Linear(2704, 120)\n",
    "        self.fc2 = nn.Linear(120, 84)\n",
    "        self.fc3 = nn.Linear(84, 4)\n",
    "\n",
    "    def forward(self, x):\n",
    "        x = self.pool(F.relu(self.conv1(x)))\n",
    "        x = self.pool(F.relu(self.conv2(x)))\n",
    "        x = torch.flatten(x, 1) # flatten all dimensions except batch\n",
    "        x = F.relu(self.fc1(x))\n",
    "        x = F.relu(self.fc2(x))\n",
    "        x = self.fc3(x)\n",
    "        return x\n",
    "\n",
    "\n",
    "net = Net()"
   ]
  },
  {
   "cell_type": "code",
   "execution_count": 20,
   "id": "duplicate-exposure",
   "metadata": {
    "execution": {
     "iopub.execute_input": "2021-08-10T17:23:56.104731Z",
     "iopub.status.busy": "2021-08-10T17:23:56.103824Z",
     "iopub.status.idle": "2021-08-10T17:23:56.109426Z",
     "shell.execute_reply": "2021-08-10T17:23:56.109919Z",
     "shell.execute_reply.started": "2021-08-10T17:22:07.478493Z"
    },
    "papermill": {
     "duration": 0.032569,
     "end_time": "2021-08-10T17:23:56.110099",
     "exception": false,
     "start_time": "2021-08-10T17:23:56.077530",
     "status": "completed"
    },
    "tags": []
   },
   "outputs": [],
   "source": [
    "#defining out loss as cross entropy as we have distinct outputs\n",
    "#defining optimizer as Adam with minute learning rate after several trial and errors\n",
    "criterion = nn.CrossEntropyLoss()\n",
    "optimizer = optim.Adam(net.parameters(), lr=0.00008)"
   ]
  },
  {
   "cell_type": "code",
   "execution_count": 21,
   "id": "earned-chambers",
   "metadata": {
    "execution": {
     "iopub.execute_input": "2021-08-10T17:23:56.171584Z",
     "iopub.status.busy": "2021-08-10T17:23:56.170811Z",
     "iopub.status.idle": "2021-08-10T17:24:37.652503Z",
     "shell.execute_reply": "2021-08-10T17:24:37.653120Z",
     "shell.execute_reply.started": "2021-08-10T17:22:07.487252Z"
    },
    "papermill": {
     "duration": 41.519133,
     "end_time": "2021-08-10T17:24:37.653357",
     "exception": false,
     "start_time": "2021-08-10T17:23:56.134224",
     "status": "completed"
    },
    "tags": []
   },
   "outputs": [
    {
     "name": "stdout",
     "output_type": "stream",
     "text": [
      "[1,   200] loss: 0.170\n",
      "[1,   400] loss: 0.121\n",
      "[1,   600] loss: 0.109\n",
      "[1,   800] loss: 0.113\n",
      "[1,  1000] loss: 0.101\n",
      "[1,  1200] loss: 0.101\n",
      "[1,  1400] loss: 0.098\n",
      "[1,  1600] loss: 0.100\n",
      "[1,  1800] loss: 0.103\n",
      "[2,   200] loss: 0.085\n",
      "[2,   400] loss: 0.073\n",
      "[2,   600] loss: 0.090\n",
      "[2,   800] loss: 0.084\n",
      "[2,  1000] loss: 0.085\n",
      "[2,  1200] loss: 0.082\n",
      "[2,  1400] loss: 0.087\n",
      "[2,  1600] loss: 0.075\n",
      "[2,  1800] loss: 0.087\n",
      "Finished Training\n"
     ]
    }
   ],
   "source": [
    "#loop over the dataset multiple times\n",
    "for epoch in range(2): \n",
    "\n",
    "    running_loss = 0.0\n",
    "    for i, data in enumerate(trainloader, 0):\n",
    "        # get the inputs; data is a list of [inputs, labels]\n",
    "        inputs, labels = data['image'],data['cell_type']\n",
    "        labels = labels.flatten()\n",
    "        index=data['idx'][0]\n",
    "        index=index.numpy()\n",
    "        index1=index[0]\n",
    "        index2=int(index1[0])\n",
    "        labels = labels.type(torch.LongTensor)\n",
    "        # zero the parameter gradients\n",
    "        optimizer.zero_grad()\n",
    "        # forward + backward + optimize\n",
    "        outputs = net(inputs)\n",
    "        #print('Outputs',outputs)\n",
    "        loss = criterion(outputs, labels)\n",
    "        loss.backward()\n",
    "        optimizer.step()\n",
    "\n",
    "        # print statistics\n",
    "        running_loss += loss.item()\n",
    "        if i % 200 == 199:    # print every 200 mini-batches\n",
    "            print('[%d, %5d] loss: %.3f' %\n",
    "                  (epoch + 1, i + 1, running_loss / 2000))\n",
    "            #print(index2)\n",
    "            running_loss = 0.0\n",
    "\n",
    "print('Finished Training')"
   ]
  },
  {
   "cell_type": "code",
   "execution_count": 22,
   "id": "material-settlement",
   "metadata": {
    "_kg_hide-input": true,
    "execution": {
     "iopub.execute_input": "2021-08-10T17:24:37.719486Z",
     "iopub.status.busy": "2021-08-10T17:24:37.718845Z",
     "iopub.status.idle": "2021-08-10T17:24:39.222234Z",
     "shell.execute_reply": "2021-08-10T17:24:39.222959Z",
     "shell.execute_reply.started": "2021-08-10T17:22:42.093756Z"
    },
    "papermill": {
     "duration": 1.539972,
     "end_time": "2021-08-10T17:24:39.223159",
     "exception": false,
     "start_time": "2021-08-10T17:24:37.683187",
     "status": "completed"
    },
    "tags": []
   },
   "outputs": [
    {
     "name": "stdout",
     "output_type": "stream",
     "text": [
      "Accuracy of the network on the 200 test images: 64 %\n"
     ]
    }
   ],
   "source": [
    "#running our validation dataset over the trained network\n",
    "correct = 0\n",
    "total = 0\n",
    "# since we're not training, we don't need to calculate the gradients for our outputs\n",
    "with torch.no_grad():\n",
    "    for data in valloader:\n",
    "        images=data['image']\n",
    "        labels=data['cell_type']\n",
    "        outputs = net(images)\n",
    "        _, predicted = torch.max(outputs.data, 1)\n",
    "     #   print(predicted)\n",
    "        total += labels.size(0)\n",
    "        correct += (predicted == labels).sum().item()\n",
    "        #if predicted==0:\n",
    "         #   result.append('Connective')\n",
    "        #if predicted==1:\n",
    "        #    result.append('Cancer')\n",
    "        #if predicted==2:\n",
    "         #   result.append('Immune')\n",
    "        #if predicted==3:\n",
    "         #   result.append('Normal')\n",
    "print('Accuracy of the network on the 200 test images: %d %%' % (\n",
    "    100 * correct / total))\n"
   ]
  },
  {
   "cell_type": "code",
   "execution_count": 23,
   "id": "gorgeous-hydrogen",
   "metadata": {
    "execution": {
     "iopub.execute_input": "2021-08-10T17:24:39.292739Z",
     "iopub.status.busy": "2021-08-10T17:24:39.292052Z",
     "iopub.status.idle": "2021-08-10T17:24:41.761661Z",
     "shell.execute_reply": "2021-08-10T17:24:41.762241Z",
     "shell.execute_reply.started": "2021-08-10T17:22:42.785248Z"
    },
    "papermill": {
     "duration": 2.508358,
     "end_time": "2021-08-10T17:24:41.762442",
     "exception": false,
     "start_time": "2021-08-10T17:24:39.254084",
     "status": "completed"
    },
    "tags": []
   },
   "outputs": [
    {
     "name": "stdout",
     "output_type": "stream",
     "text": [
      "{'ID': [10001, 10002, 10003, 10004, 10005, 10006, 10007, 10008, 10009, 10010, 10011, 10012, 10013, 10014, 10015, 10016, 10017, 10018, 10019, 10020, 10021, 10022, 10023, 10024, 10025, 10026, 10027, 10028, 10029, 10030, 10031, 10032, 10033, 10034, 10035, 10036, 10037, 10038, 10039, 10040, 10041, 10042, 10043, 10044, 10045, 10046, 10047, 10048, 10049, 10050, 10051, 10052, 10053, 10054, 10055, 10056, 10057, 10058, 10059, 10060, 10061, 10062, 10063, 10064, 10065, 10066, 10067, 10068, 10069, 10070, 10071, 10072, 10073, 10074, 10075, 10076, 10077, 10078, 10079, 10080, 10081, 10082, 10083, 10084, 10085, 10086, 10087, 10088, 10089, 10090, 10091, 10092, 10093, 10094, 10095, 10096, 10097, 10098, 10099, 10100, 10101, 10102, 10103, 10104, 10105, 10106, 10107, 10108, 10109, 10110, 10111, 10112, 10113, 10114, 10115, 10116, 10117, 10118, 10119, 10120, 10121, 10122, 10123, 10124, 10125, 10126, 10127, 10128, 10129, 10130, 10131, 10132, 10133, 10134, 10135, 10136, 10137, 10138, 10139, 10140, 10141, 10142, 10143, 10144, 10145, 10146, 10147, 10148, 10149, 10150, 10151, 10152, 10153, 10154, 10155, 10156, 10157, 10158, 10159, 10160, 10161, 10162, 10163, 10164, 10165, 10166, 10167, 10168, 10169, 10170, 10171, 10172, 10173, 10174, 10175, 10176, 10177, 10178, 10179, 10180, 10181, 10182, 10183, 10184, 10185, 10186, 10187, 10188, 10189, 10190, 10191, 10192, 10193, 10194, 10195, 10196, 10197, 10198, 10199, 10200, 10201, 10202, 10203, 10204, 10205, 10206, 10207, 10208, 10209, 10210, 10211, 10212, 10213, 10214, 10215, 10216, 10217, 10218, 10219, 10220, 10221, 10222, 10223, 10224, 10225, 10226, 10227, 10228, 10229, 10230, 10231, 10232, 10233, 10234, 10235, 10236, 10237, 10238, 10239, 10240, 10241, 10242, 10243, 10244, 10245, 10246, 10247, 10248, 10249, 10250, 10251, 10252, 10253, 10254, 10255, 10256, 10257, 10258, 10259, 10260, 10261, 10262, 10263, 10264, 10265, 10266, 10267, 10268, 10269, 10270, 10271, 10272, 10273, 10274, 10275, 10276, 10277, 10278, 10279, 10280, 10281, 10282, 10283, 10284, 10285, 10286, 10287, 10288, 10289, 10290, 10291, 10292, 10293, 10294, 10295, 10296, 10297, 10298, 10299, 10300, 10301, 10302, 10303, 10304, 10305, 10306, 10307, 10308, 10309, 10310, 10311, 10312, 10313, 10314, 10315, 10316, 10317, 10318, 10319, 10320, 10321, 10322, 10323, 10324, 10325, 10326, 10327, 10328, 10329, 10330, 10331, 10332, 10333, 10334, 10335, 10336, 10337, 10338, 10339, 10340, 10341, 10342, 10343, 10344, 10345, 10346, 10347, 10348, 10349, 10350, 10351, 10352, 10353, 10354, 10355, 10356, 10357, 10358, 10359, 10360, 10361, 10362, 10363, 10364, 10365, 10366, 10367, 10368, 10369, 10370, 10371, 10372, 10373, 10374, 10375, 10376, 10377, 10378, 10379, 10380, 10381, 10382, 10383, 10384, 10385, 10386, 10387, 10388, 10389, 10390, 10391, 10392, 10393, 10394, 10395, 10396, 10397, 10398, 10399, 10400], 'Type': ['Cancer', 'Cancer', 'Immune', 'Immune', 'Cancer', 'Connective', 'Cancer', 'Connective', 'Cancer', 'Connective', 'Connective', 'Cancer', 'Immune', 'Immune', 'Connective', 'Cancer', 'Cancer', 'Immune', 'Immune', 'Cancer', 'Cancer', 'Cancer', 'Connective', 'Cancer', 'Connective', 'Cancer', 'Cancer', 'Immune', 'Connective', 'Connective', 'Cancer', 'Cancer', 'Cancer', 'Cancer', 'Connective', 'Connective', 'Cancer', 'Connective', 'Cancer', 'Cancer', 'Cancer', 'Connective', 'Cancer', 'Connective', 'Connective', 'Connective', 'Connective', 'Cancer', 'Connective', 'Immune', 'Connective', 'Connective', 'Connective', 'Cancer', 'Cancer', 'Cancer', 'Connective', 'Cancer', 'Connective', 'Cancer', 'Connective', 'Connective', 'Connective', 'Connective', 'Connective', 'Cancer', 'Connective', 'Immune', 'Immune', 'Cancer', 'Connective', 'Connective', 'Cancer', 'Connective', 'Connective', 'Connective', 'Cancer', 'Cancer', 'Connective', 'Cancer', 'Connective', 'Cancer', 'Cancer', 'Connective', 'Connective', 'Cancer', 'Cancer', 'Connective', 'Cancer', 'Connective', 'Connective', 'Cancer', 'Cancer', 'Connective', 'Connective', 'Cancer', 'Cancer', 'Connective', 'Connective', 'Cancer', 'Cancer', 'Connective', 'Cancer', 'Cancer', 'Connective', 'Connective', 'Connective', 'Immune', 'Connective', 'Cancer', 'Connective', 'Connective', 'Immune', 'Connective', 'Connective', 'Cancer', 'Cancer', 'Cancer', 'Connective', 'Cancer', 'Cancer', 'Cancer', 'Cancer', 'Cancer', 'Immune', 'Cancer', 'Cancer', 'Cancer', 'Connective', 'Cancer', 'Connective', 'Cancer', 'Cancer', 'Immune', 'Cancer', 'Connective', 'Immune', 'Connective', 'Cancer', 'Connective', 'Cancer', 'Immune', 'Immune', 'Immune', 'Cancer', 'Connective', 'Cancer', 'Cancer', 'Cancer', 'Cancer', 'Connective', 'Cancer', 'Cancer', 'Connective', 'Cancer', 'Immune', 'Cancer', 'Connective', 'Cancer', 'Cancer', 'Connective', 'Immune', 'Connective', 'Immune', 'Connective', 'Connective', 'Cancer', 'Cancer', 'Immune', 'Normal', 'Normal', 'Immune', 'Cancer', 'Immune', 'Cancer', 'Connective', 'Connective', 'Immune', 'Cancer', 'Connective', 'Connective', 'Cancer', 'Immune', 'Immune', 'Cancer', 'Connective', 'Cancer', 'Cancer', 'Immune', 'Immune', 'Immune', 'Cancer', 'Immune', 'Immune', 'Immune', 'Cancer', 'Cancer', 'Cancer', 'Cancer', 'Cancer', 'Connective', 'Normal', 'Immune', 'Immune', 'Cancer', 'Immune', 'Cancer', 'Connective', 'Connective', 'Immune', 'Immune', 'Connective', 'Cancer', 'Immune', 'Connective', 'Cancer', 'Connective', 'Cancer', 'Connective', 'Cancer', 'Cancer', 'Immune', 'Cancer', 'Cancer', 'Connective', 'Cancer', 'Cancer', 'Cancer', 'Connective', 'Cancer', 'Cancer', 'Cancer', 'Cancer', 'Cancer', 'Cancer', 'Cancer', 'Connective', 'Cancer', 'Cancer', 'Cancer', 'Cancer', 'Cancer', 'Immune', 'Immune', 'Cancer', 'Cancer', 'Cancer', 'Cancer', 'Cancer', 'Cancer', 'Cancer', 'Cancer', 'Cancer', 'Cancer', 'Connective', 'Cancer', 'Cancer', 'Normal', 'Cancer', 'Normal', 'Cancer', 'Cancer', 'Cancer', 'Cancer', 'Cancer', 'Cancer', 'Cancer', 'Connective', 'Cancer', 'Cancer', 'Normal', 'Cancer', 'Cancer', 'Connective', 'Cancer', 'Cancer', 'Cancer', 'Cancer', 'Cancer', 'Cancer', 'Cancer', 'Cancer', 'Cancer', 'Immune', 'Cancer', 'Cancer', 'Cancer', 'Cancer', 'Cancer', 'Cancer', 'Immune', 'Cancer', 'Cancer', 'Cancer', 'Cancer', 'Connective', 'Connective', 'Cancer', 'Connective', 'Cancer', 'Cancer', 'Cancer', 'Connective', 'Connective', 'Normal', 'Immune', 'Cancer', 'Connective', 'Cancer', 'Cancer', 'Cancer', 'Immune', 'Connective', 'Immune', 'Immune', 'Connective', 'Immune', 'Cancer', 'Cancer', 'Cancer', 'Connective', 'Cancer', 'Cancer', 'Cancer', 'Cancer', 'Cancer', 'Cancer', 'Cancer', 'Cancer', 'Cancer', 'Cancer', 'Cancer', 'Cancer', 'Cancer', 'Normal', 'Cancer', 'Normal', 'Cancer', 'Cancer', 'Cancer', 'Cancer', 'Cancer', 'Normal', 'Cancer', 'Cancer', 'Normal', 'Cancer', 'Cancer', 'Cancer', 'Cancer', 'Normal', 'Cancer', 'Cancer', 'Connective', 'Cancer', 'Cancer', 'Cancer', 'Cancer', 'Connective', 'Normal', 'Cancer', 'Normal', 'Immune', 'Cancer', 'Cancer', 'Cancer', 'Cancer', 'Connective', 'Cancer', 'Normal', 'Normal', 'Cancer', 'Normal', 'Normal', 'Cancer', 'Normal', 'Cancer', 'Cancer', 'Cancer', 'Cancer', 'Cancer', 'Cancer', 'Cancer', 'Normal', 'Cancer', 'Cancer', 'Cancer', 'Cancer', 'Cancer', 'Cancer', 'Cancer', 'Normal', 'Cancer', 'Cancer', 'Cancer', 'Cancer', 'Cancer', 'Normal', 'Cancer', 'Normal']}\n"
     ]
    }
   ],
   "source": [
    "#running our test data on the trained network\n",
    "#saving the final result in a dictionary\n",
    "\n",
    "correct = 0\n",
    "total = 0\n",
    "test_image=[]\n",
    "test_type=[]\n",
    "final_result={}\n",
    "# since we're not training, we don't need to calculate the gradients for our outputs\n",
    "with torch.no_grad():\n",
    "    for data in testloader:\n",
    "        images = data['image']\n",
    "        index=data['idx'][0]\n",
    "        index=index.numpy()\n",
    "        index1=index[0]\n",
    "        index2=int(index1[0])+1\n",
    "        index2=index2+10000\n",
    "        test_image.append(index2)\n",
    "        outputs = net(images)\n",
    "        _, predicted = torch.max(outputs.data, 1)\n",
    "        #print(predicted)\n",
    "        if predicted==0:\n",
    "            test_type.append('Connective')\n",
    "        if predicted==1:\n",
    "            test_type.append('Cancer')\n",
    "        if predicted==2:\n",
    "            test_type.append('Immune')\n",
    "        if predicted==3:\n",
    "            test_type.append('Normal')\n",
    "    final_result[\"ID\"]=test_image\n",
    "    final_result[\"Type\"]=test_type\n",
    "    print(final_result)\n",
    "            "
   ]
  },
  {
   "cell_type": "code",
   "execution_count": 24,
   "id": "genuine-monte",
   "metadata": {
    "execution": {
     "iopub.execute_input": "2021-08-10T17:24:41.826885Z",
     "iopub.status.busy": "2021-08-10T17:24:41.826279Z",
     "iopub.status.idle": "2021-08-10T17:24:41.836992Z",
     "shell.execute_reply": "2021-08-10T17:24:41.836492Z",
     "shell.execute_reply.started": "2021-08-10T17:22:56.835109Z"
    },
    "papermill": {
     "duration": 0.043131,
     "end_time": "2021-08-10T17:24:41.837129",
     "exception": false,
     "start_time": "2021-08-10T17:24:41.793998",
     "status": "completed"
    },
    "tags": []
   },
   "outputs": [],
   "source": [
    "#exporting our dictionary to a csv file\n",
    "output = pd.DataFrame(final_result)\n",
    "output.to_csv('submission.csv', index=False)"
   ]
  },
  {
   "cell_type": "code",
   "execution_count": null,
   "id": "blind-wright",
   "metadata": {
    "papermill": {
     "duration": 0.029618,
     "end_time": "2021-08-10T17:24:41.897474",
     "exception": false,
     "start_time": "2021-08-10T17:24:41.867856",
     "status": "completed"
    },
    "tags": []
   },
   "outputs": [],
   "source": []
  }
 ],
 "metadata": {
  "kernelspec": {
   "display_name": "Python 3",
   "language": "python",
   "name": "python3"
  },
  "language_info": {
   "codemirror_mode": {
    "name": "ipython",
    "version": 3
   },
   "file_extension": ".py",
   "mimetype": "text/x-python",
   "name": "python",
   "nbconvert_exporter": "python",
   "pygments_lexer": "ipython3",
   "version": "3.7.10"
  },
  "papermill": {
   "default_parameters": {},
   "duration": 59.922503,
   "end_time": "2021-08-10T17:24:43.415266",
   "environment_variables": {},
   "exception": null,
   "input_path": "__notebook__.ipynb",
   "output_path": "__notebook__.ipynb",
   "parameters": {},
   "start_time": "2021-08-10T17:23:43.492763",
   "version": "2.3.3"
  }
 },
 "nbformat": 4,
 "nbformat_minor": 5
}
